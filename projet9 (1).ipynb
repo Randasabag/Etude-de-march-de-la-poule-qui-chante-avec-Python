{
  "metadata": {
    "kernelspec": {
      "language": "python",
      "display_name": "Python 3",
      "name": "python3"
    },
    "language_info": {
      "pygments_lexer": "ipython3",
      "nbconvert_exporter": "python",
      "version": "3.6.4",
      "file_extension": ".py",
      "codemirror_mode": {
        "name": "ipython",
        "version": 3
      },
      "name": "python",
      "mimetype": "text/x-python"
    },
    "colab": {
      "name": "projet9.ipynb",
      "provenance": [],
      "collapsed_sections": []
    }
  },
  "nbformat_minor": 0,
  "nbformat": 4,
  "cells": [
    {
      "cell_type": "markdown",
      "source": [
        "# <font color='indianred'> LA POULE QUI CHANTE </font>\n",
        "##MISSION : Analyse pour le lancement à l’international en groupant les pays à cibler pour exporter nos poulets\n",
        "\n",
        "1ère partie : Prétraitement des données\n",
        "\n",
        "\n",
        "2ème partie : Analyse par \n",
        "<li>ACP afin de visualiser les résultats de ton analyse, comprendre les groupes, les liens entre les variables, les liens entre les individus</li>\n",
        "<li>Méthode des k-means, afin d’affiner l’analyse et comparer les résultats des deux méthodes de clustering et analyse des centroides des classes</li>\n",
        "<li>Classification ascendante hiérarchique avec un dendrogramme comme visualisation</li>\n",
        "\n",
        "\n",
        "# Sommaire :\n",
        "**Partie 1 : Importation des données**\n",
        " - <a href=\"#C1\">Importation des librairies</a>\n",
        " - <a href=\"#C2\">Importation des jeux de données</a>\n",
        " \n",
        "**Partie 2 : Analyse des jeux de données**\n",
        " - <a href=\"#C3\">Affichage du nombre de lignes et colonnes des jeux de données </a>\n",
        " - <a href=\"#C4\">Affichage des informations des jeux de données </a>\n",
        " - <a href=\"#C5\">Analyse des valeurs manquantes</a>\n",
        " - <a href=\"#C6\">Unicité de la clé primaire</a>\n",
        " - <a href=\"#C7\">Analyse des doublons</a>"
      ],
      "metadata": {
        "id": "9E3r8xl2gdHi"
      }
    },
    {
      "cell_type": "markdown",
      "source": [
        "# **<font color='indianred'>Partie 1 : Importation des données</font></a>**"
      ],
      "metadata": {
        "id": "AwAOLDXpMZpO"
      }
    },
    {
      "cell_type": "markdown",
      "source": [
        "# <a name=\"C1\"><font color='LightSeaGreen'>Importation des librairies</font></a>"
      ],
      "metadata": {
        "id": "qltDYQaEMYBO"
      }
    },
    {
      "cell_type": "code",
      "source": [
        "import pandas as pd\n",
        "import numpy as np\n",
        "import matplotlib.pyplot as plt\n",
        "import seaborn as sns\n",
        "import io\n",
        "from google.colab import files"
      ],
      "metadata": {
        "execution": {
          "iopub.status.busy": "2022-06-24T06:34:02.929072Z",
          "iopub.execute_input": "2022-06-24T06:34:02.929553Z",
          "iopub.status.idle": "2022-06-24T06:34:04.268454Z",
          "shell.execute_reply.started": "2022-06-24T06:34:02.929493Z",
          "shell.execute_reply": "2022-06-24T06:34:04.26713Z"
        },
        "trusted": true,
        "id": "hO57SNDZe7pN"
      },
      "execution_count": 1,
      "outputs": []
    },
    {
      "cell_type": "markdown",
      "source": [
        "# <a name=\"C2\"><font color='LightSeaGreen'>Importation des données</font></a>"
      ],
      "metadata": {
        "id": "iECiZbhHMrjq"
      }
    },
    {
      "cell_type": "code",
      "source": [
        "uploaded = files.upload()"
      ],
      "metadata": {
        "colab": {
          "resources": {
            "http://localhost:8080/nbextensions/google.colab/files.js": {
              "data": "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",
              "ok": true,
              "headers": [
                [
                  "content-type",
                  "application/javascript"
                ]
              ],
              "status": 200,
              "status_text": ""
            }
          },
          "base_uri": "https://localhost:8080/",
          "height": 109
        },
        "id": "D7mGiI2LfbqC",
        "outputId": "c82e71f8-d3b4-4d7b-fe37-a75e8b9058e3"
      },
      "execution_count": 2,
      "outputs": [
        {
          "output_type": "display_data",
          "data": {
            "text/plain": [
              "<IPython.core.display.HTML object>"
            ],
            "text/html": [
              "\n",
              "     <input type=\"file\" id=\"files-28c64717-8304-4512-8145-04d0bcf494bb\" name=\"files[]\" multiple disabled\n",
              "        style=\"border:none\" />\n",
              "     <output id=\"result-28c64717-8304-4512-8145-04d0bcf494bb\">\n",
              "      Upload widget is only available when the cell has been executed in the\n",
              "      current browser session. Please rerun this cell to enable.\n",
              "      </output>\n",
              "      <script src=\"/nbextensions/google.colab/files.js\"></script> "
            ]
          },
          "metadata": {}
        },
        {
          "output_type": "stream",
          "name": "stdout",
          "text": [
            "Saving DisponibiliteAlimentaire_2017.csv to DisponibiliteAlimentaire_2017.csv\n",
            "Saving Population_2000_2018.csv to Population_2000_2018.csv\n"
          ]
        }
      ]
    },
    {
      "cell_type": "code",
      "source": [
        "df_dispo=pd.read_csv(io.BytesIO(uploaded['DisponibiliteAlimentaire_2017.csv'])) \n",
        "df_dispo.head()"
      ],
      "metadata": {
        "execution": {
          "iopub.status.busy": "2022-06-24T06:34:04.274924Z",
          "iopub.execute_input": "2022-06-24T06:34:04.277823Z",
          "iopub.status.idle": "2022-06-24T06:34:05.563842Z",
          "shell.execute_reply.started": "2022-06-24T06:34:04.277772Z",
          "shell.execute_reply": "2022-06-24T06:34:05.56244Z"
        },
        "trusted": true,
        "colab": {
          "base_uri": "https://localhost:8080/",
          "height": 354
        },
        "id": "UenJbK3ne7pO",
        "outputId": "f8800fc0-217d-4c78-8dfe-eee54c9df0c7"
      },
      "execution_count": 5,
      "outputs": [
        {
          "output_type": "execute_result",
          "data": {
            "text/plain": [
              "  Code Domaine                      Domaine  Code zone         Zone  \\\n",
              "0          FBS  Nouveaux Bilans Alimentaire          2  Afghanistan   \n",
              "1          FBS  Nouveaux Bilans Alimentaire          2  Afghanistan   \n",
              "2          FBS  Nouveaux Bilans Alimentaire          2  Afghanistan   \n",
              "3          FBS  Nouveaux Bilans Alimentaire          2  Afghanistan   \n",
              "4          FBS  Nouveaux Bilans Alimentaire          2  Afghanistan   \n",
              "\n",
              "   Code Élément                   Élément  Code Produit          Produit  \\\n",
              "0          5511                Production          2511  Blé et produits   \n",
              "1          5611   Importations - Quantité          2511  Blé et produits   \n",
              "2          5072        Variation de stock          2511  Blé et produits   \n",
              "3          5911   Exportations - Quantité          2511  Blé et produits   \n",
              "4          5301  Disponibilité intérieure          2511  Blé et produits   \n",
              "\n",
              "   Code année  Année               Unité  Valeur Symbole  \\\n",
              "0        2017   2017  Milliers de tonnes  4281.0       S   \n",
              "1        2017   2017  Milliers de tonnes  2302.0       S   \n",
              "2        2017   2017  Milliers de tonnes  -119.0       S   \n",
              "3        2017   2017  Milliers de tonnes     0.0       S   \n",
              "4        2017   2017  Milliers de tonnes  6701.0       S   \n",
              "\n",
              "  Description du Symbole  \n",
              "0  Données standardisées  \n",
              "1  Données standardisées  \n",
              "2  Données standardisées  \n",
              "3  Données standardisées  \n",
              "4  Données standardisées  "
            ],
            "text/html": [
              "\n",
              "  <div id=\"df-61b428f0-5a75-4caa-abc7-64426723f77b\">\n",
              "    <div class=\"colab-df-container\">\n",
              "      <div>\n",
              "<style scoped>\n",
              "    .dataframe tbody tr th:only-of-type {\n",
              "        vertical-align: middle;\n",
              "    }\n",
              "\n",
              "    .dataframe tbody tr th {\n",
              "        vertical-align: top;\n",
              "    }\n",
              "\n",
              "    .dataframe thead th {\n",
              "        text-align: right;\n",
              "    }\n",
              "</style>\n",
              "<table border=\"1\" class=\"dataframe\">\n",
              "  <thead>\n",
              "    <tr style=\"text-align: right;\">\n",
              "      <th></th>\n",
              "      <th>Code Domaine</th>\n",
              "      <th>Domaine</th>\n",
              "      <th>Code zone</th>\n",
              "      <th>Zone</th>\n",
              "      <th>Code Élément</th>\n",
              "      <th>Élément</th>\n",
              "      <th>Code Produit</th>\n",
              "      <th>Produit</th>\n",
              "      <th>Code année</th>\n",
              "      <th>Année</th>\n",
              "      <th>Unité</th>\n",
              "      <th>Valeur</th>\n",
              "      <th>Symbole</th>\n",
              "      <th>Description du Symbole</th>\n",
              "    </tr>\n",
              "  </thead>\n",
              "  <tbody>\n",
              "    <tr>\n",
              "      <th>0</th>\n",
              "      <td>FBS</td>\n",
              "      <td>Nouveaux Bilans Alimentaire</td>\n",
              "      <td>2</td>\n",
              "      <td>Afghanistan</td>\n",
              "      <td>5511</td>\n",
              "      <td>Production</td>\n",
              "      <td>2511</td>\n",
              "      <td>Blé et produits</td>\n",
              "      <td>2017</td>\n",
              "      <td>2017</td>\n",
              "      <td>Milliers de tonnes</td>\n",
              "      <td>4281.0</td>\n",
              "      <td>S</td>\n",
              "      <td>Données standardisées</td>\n",
              "    </tr>\n",
              "    <tr>\n",
              "      <th>1</th>\n",
              "      <td>FBS</td>\n",
              "      <td>Nouveaux Bilans Alimentaire</td>\n",
              "      <td>2</td>\n",
              "      <td>Afghanistan</td>\n",
              "      <td>5611</td>\n",
              "      <td>Importations - Quantité</td>\n",
              "      <td>2511</td>\n",
              "      <td>Blé et produits</td>\n",
              "      <td>2017</td>\n",
              "      <td>2017</td>\n",
              "      <td>Milliers de tonnes</td>\n",
              "      <td>2302.0</td>\n",
              "      <td>S</td>\n",
              "      <td>Données standardisées</td>\n",
              "    </tr>\n",
              "    <tr>\n",
              "      <th>2</th>\n",
              "      <td>FBS</td>\n",
              "      <td>Nouveaux Bilans Alimentaire</td>\n",
              "      <td>2</td>\n",
              "      <td>Afghanistan</td>\n",
              "      <td>5072</td>\n",
              "      <td>Variation de stock</td>\n",
              "      <td>2511</td>\n",
              "      <td>Blé et produits</td>\n",
              "      <td>2017</td>\n",
              "      <td>2017</td>\n",
              "      <td>Milliers de tonnes</td>\n",
              "      <td>-119.0</td>\n",
              "      <td>S</td>\n",
              "      <td>Données standardisées</td>\n",
              "    </tr>\n",
              "    <tr>\n",
              "      <th>3</th>\n",
              "      <td>FBS</td>\n",
              "      <td>Nouveaux Bilans Alimentaire</td>\n",
              "      <td>2</td>\n",
              "      <td>Afghanistan</td>\n",
              "      <td>5911</td>\n",
              "      <td>Exportations - Quantité</td>\n",
              "      <td>2511</td>\n",
              "      <td>Blé et produits</td>\n",
              "      <td>2017</td>\n",
              "      <td>2017</td>\n",
              "      <td>Milliers de tonnes</td>\n",
              "      <td>0.0</td>\n",
              "      <td>S</td>\n",
              "      <td>Données standardisées</td>\n",
              "    </tr>\n",
              "    <tr>\n",
              "      <th>4</th>\n",
              "      <td>FBS</td>\n",
              "      <td>Nouveaux Bilans Alimentaire</td>\n",
              "      <td>2</td>\n",
              "      <td>Afghanistan</td>\n",
              "      <td>5301</td>\n",
              "      <td>Disponibilité intérieure</td>\n",
              "      <td>2511</td>\n",
              "      <td>Blé et produits</td>\n",
              "      <td>2017</td>\n",
              "      <td>2017</td>\n",
              "      <td>Milliers de tonnes</td>\n",
              "      <td>6701.0</td>\n",
              "      <td>S</td>\n",
              "      <td>Données standardisées</td>\n",
              "    </tr>\n",
              "  </tbody>\n",
              "</table>\n",
              "</div>\n",
              "      <button class=\"colab-df-convert\" onclick=\"convertToInteractive('df-61b428f0-5a75-4caa-abc7-64426723f77b')\"\n",
              "              title=\"Convert this dataframe to an interactive table.\"\n",
              "              style=\"display:none;\">\n",
              "        \n",
              "  <svg xmlns=\"http://www.w3.org/2000/svg\" height=\"24px\"viewBox=\"0 0 24 24\"\n",
              "       width=\"24px\">\n",
              "    <path d=\"M0 0h24v24H0V0z\" fill=\"none\"/>\n",
              "    <path d=\"M18.56 5.44l.94 2.06.94-2.06 2.06-.94-2.06-.94-.94-2.06-.94 2.06-2.06.94zm-11 1L8.5 8.5l.94-2.06 2.06-.94-2.06-.94L8.5 2.5l-.94 2.06-2.06.94zm10 10l.94 2.06.94-2.06 2.06-.94-2.06-.94-.94-2.06-.94 2.06-2.06.94z\"/><path d=\"M17.41 7.96l-1.37-1.37c-.4-.4-.92-.59-1.43-.59-.52 0-1.04.2-1.43.59L10.3 9.45l-7.72 7.72c-.78.78-.78 2.05 0 2.83L4 21.41c.39.39.9.59 1.41.59.51 0 1.02-.2 1.41-.59l7.78-7.78 2.81-2.81c.8-.78.8-2.07 0-2.86zM5.41 20L4 18.59l7.72-7.72 1.47 1.35L5.41 20z\"/>\n",
              "  </svg>\n",
              "      </button>\n",
              "      \n",
              "  <style>\n",
              "    .colab-df-container {\n",
              "      display:flex;\n",
              "      flex-wrap:wrap;\n",
              "      gap: 12px;\n",
              "    }\n",
              "\n",
              "    .colab-df-convert {\n",
              "      background-color: #E8F0FE;\n",
              "      border: none;\n",
              "      border-radius: 50%;\n",
              "      cursor: pointer;\n",
              "      display: none;\n",
              "      fill: #1967D2;\n",
              "      height: 32px;\n",
              "      padding: 0 0 0 0;\n",
              "      width: 32px;\n",
              "    }\n",
              "\n",
              "    .colab-df-convert:hover {\n",
              "      background-color: #E2EBFA;\n",
              "      box-shadow: 0px 1px 2px rgba(60, 64, 67, 0.3), 0px 1px 3px 1px rgba(60, 64, 67, 0.15);\n",
              "      fill: #174EA6;\n",
              "    }\n",
              "\n",
              "    [theme=dark] .colab-df-convert {\n",
              "      background-color: #3B4455;\n",
              "      fill: #D2E3FC;\n",
              "    }\n",
              "\n",
              "    [theme=dark] .colab-df-convert:hover {\n",
              "      background-color: #434B5C;\n",
              "      box-shadow: 0px 1px 3px 1px rgba(0, 0, 0, 0.15);\n",
              "      filter: drop-shadow(0px 1px 2px rgba(0, 0, 0, 0.3));\n",
              "      fill: #FFFFFF;\n",
              "    }\n",
              "  </style>\n",
              "\n",
              "      <script>\n",
              "        const buttonEl =\n",
              "          document.querySelector('#df-61b428f0-5a75-4caa-abc7-64426723f77b button.colab-df-convert');\n",
              "        buttonEl.style.display =\n",
              "          google.colab.kernel.accessAllowed ? 'block' : 'none';\n",
              "\n",
              "        async function convertToInteractive(key) {\n",
              "          const element = document.querySelector('#df-61b428f0-5a75-4caa-abc7-64426723f77b');\n",
              "          const dataTable =\n",
              "            await google.colab.kernel.invokeFunction('convertToInteractive',\n",
              "                                                     [key], {});\n",
              "          if (!dataTable) return;\n",
              "\n",
              "          const docLinkHtml = 'Like what you see? Visit the ' +\n",
              "            '<a target=\"_blank\" href=https://colab.research.google.com/notebooks/data_table.ipynb>data table notebook</a>'\n",
              "            + ' to learn more about interactive tables.';\n",
              "          element.innerHTML = '';\n",
              "          dataTable['output_type'] = 'display_data';\n",
              "          await google.colab.output.renderOutput(dataTable, element);\n",
              "          const docLink = document.createElement('div');\n",
              "          docLink.innerHTML = docLinkHtml;\n",
              "          element.appendChild(docLink);\n",
              "        }\n",
              "      </script>\n",
              "    </div>\n",
              "  </div>\n",
              "  "
            ]
          },
          "metadata": {},
          "execution_count": 5
        }
      ]
    },
    {
      "cell_type": "code",
      "source": [
        "df_pop=pd.read_csv(io.BytesIO(uploaded['Population_2000_2018.csv'])) \n",
        "df_pop.head()"
      ],
      "metadata": {
        "execution": {
          "iopub.status.busy": "2022-06-24T06:34:05.567074Z",
          "iopub.execute_input": "2022-06-24T06:34:05.567794Z",
          "iopub.status.idle": "2022-06-24T06:34:05.647603Z",
          "shell.execute_reply.started": "2022-06-24T06:34:05.567747Z",
          "shell.execute_reply": "2022-06-24T06:34:05.646333Z"
        },
        "trusted": true,
        "colab": {
          "base_uri": "https://localhost:8080/",
          "height": 354
        },
        "id": "cHjZNAUte7pO",
        "outputId": "f3c488e4-da0a-4af8-9bd5-99b1a4e57862"
      },
      "execution_count": 9,
      "outputs": [
        {
          "output_type": "execute_result",
          "data": {
            "text/plain": [
              "  Code Domaine                       Domaine  Code zone         Zone  \\\n",
              "0           OA  Séries temporelles annuelles          2  Afghanistan   \n",
              "1           OA  Séries temporelles annuelles          2  Afghanistan   \n",
              "2           OA  Séries temporelles annuelles          2  Afghanistan   \n",
              "3           OA  Séries temporelles annuelles          2  Afghanistan   \n",
              "4           OA  Séries temporelles annuelles          2  Afghanistan   \n",
              "\n",
              "   Code Élément            Élément  Code Produit                 Produit  \\\n",
              "0           511  Population totale          3010  Population-Estimations   \n",
              "1           511  Population totale          3010  Population-Estimations   \n",
              "2           511  Population totale          3010  Population-Estimations   \n",
              "3           511  Population totale          3010  Population-Estimations   \n",
              "4           511  Population totale          3010  Population-Estimations   \n",
              "\n",
              "   Code année  Année           Unité     Valeur Symbole  \\\n",
              "0        2000   2000  1000 personnes  20779.953       X   \n",
              "1        2001   2001  1000 personnes  21606.988       X   \n",
              "2        2002   2002  1000 personnes  22600.770       X   \n",
              "3        2003   2003  1000 personnes  23680.871       X   \n",
              "4        2004   2004  1000 personnes  24726.684       X   \n",
              "\n",
              "          Description du Symbole Note  \n",
              "0  Sources internationales sûres  NaN  \n",
              "1  Sources internationales sûres  NaN  \n",
              "2  Sources internationales sûres  NaN  \n",
              "3  Sources internationales sûres  NaN  \n",
              "4  Sources internationales sûres  NaN  "
            ],
            "text/html": [
              "\n",
              "  <div id=\"df-c18c29eb-ae80-45c1-a8d5-5fdc1e6dbe73\">\n",
              "    <div class=\"colab-df-container\">\n",
              "      <div>\n",
              "<style scoped>\n",
              "    .dataframe tbody tr th:only-of-type {\n",
              "        vertical-align: middle;\n",
              "    }\n",
              "\n",
              "    .dataframe tbody tr th {\n",
              "        vertical-align: top;\n",
              "    }\n",
              "\n",
              "    .dataframe thead th {\n",
              "        text-align: right;\n",
              "    }\n",
              "</style>\n",
              "<table border=\"1\" class=\"dataframe\">\n",
              "  <thead>\n",
              "    <tr style=\"text-align: right;\">\n",
              "      <th></th>\n",
              "      <th>Code Domaine</th>\n",
              "      <th>Domaine</th>\n",
              "      <th>Code zone</th>\n",
              "      <th>Zone</th>\n",
              "      <th>Code Élément</th>\n",
              "      <th>Élément</th>\n",
              "      <th>Code Produit</th>\n",
              "      <th>Produit</th>\n",
              "      <th>Code année</th>\n",
              "      <th>Année</th>\n",
              "      <th>Unité</th>\n",
              "      <th>Valeur</th>\n",
              "      <th>Symbole</th>\n",
              "      <th>Description du Symbole</th>\n",
              "      <th>Note</th>\n",
              "    </tr>\n",
              "  </thead>\n",
              "  <tbody>\n",
              "    <tr>\n",
              "      <th>0</th>\n",
              "      <td>OA</td>\n",
              "      <td>Séries temporelles annuelles</td>\n",
              "      <td>2</td>\n",
              "      <td>Afghanistan</td>\n",
              "      <td>511</td>\n",
              "      <td>Population totale</td>\n",
              "      <td>3010</td>\n",
              "      <td>Population-Estimations</td>\n",
              "      <td>2000</td>\n",
              "      <td>2000</td>\n",
              "      <td>1000 personnes</td>\n",
              "      <td>20779.953</td>\n",
              "      <td>X</td>\n",
              "      <td>Sources internationales sûres</td>\n",
              "      <td>NaN</td>\n",
              "    </tr>\n",
              "    <tr>\n",
              "      <th>1</th>\n",
              "      <td>OA</td>\n",
              "      <td>Séries temporelles annuelles</td>\n",
              "      <td>2</td>\n",
              "      <td>Afghanistan</td>\n",
              "      <td>511</td>\n",
              "      <td>Population totale</td>\n",
              "      <td>3010</td>\n",
              "      <td>Population-Estimations</td>\n",
              "      <td>2001</td>\n",
              "      <td>2001</td>\n",
              "      <td>1000 personnes</td>\n",
              "      <td>21606.988</td>\n",
              "      <td>X</td>\n",
              "      <td>Sources internationales sûres</td>\n",
              "      <td>NaN</td>\n",
              "    </tr>\n",
              "    <tr>\n",
              "      <th>2</th>\n",
              "      <td>OA</td>\n",
              "      <td>Séries temporelles annuelles</td>\n",
              "      <td>2</td>\n",
              "      <td>Afghanistan</td>\n",
              "      <td>511</td>\n",
              "      <td>Population totale</td>\n",
              "      <td>3010</td>\n",
              "      <td>Population-Estimations</td>\n",
              "      <td>2002</td>\n",
              "      <td>2002</td>\n",
              "      <td>1000 personnes</td>\n",
              "      <td>22600.770</td>\n",
              "      <td>X</td>\n",
              "      <td>Sources internationales sûres</td>\n",
              "      <td>NaN</td>\n",
              "    </tr>\n",
              "    <tr>\n",
              "      <th>3</th>\n",
              "      <td>OA</td>\n",
              "      <td>Séries temporelles annuelles</td>\n",
              "      <td>2</td>\n",
              "      <td>Afghanistan</td>\n",
              "      <td>511</td>\n",
              "      <td>Population totale</td>\n",
              "      <td>3010</td>\n",
              "      <td>Population-Estimations</td>\n",
              "      <td>2003</td>\n",
              "      <td>2003</td>\n",
              "      <td>1000 personnes</td>\n",
              "      <td>23680.871</td>\n",
              "      <td>X</td>\n",
              "      <td>Sources internationales sûres</td>\n",
              "      <td>NaN</td>\n",
              "    </tr>\n",
              "    <tr>\n",
              "      <th>4</th>\n",
              "      <td>OA</td>\n",
              "      <td>Séries temporelles annuelles</td>\n",
              "      <td>2</td>\n",
              "      <td>Afghanistan</td>\n",
              "      <td>511</td>\n",
              "      <td>Population totale</td>\n",
              "      <td>3010</td>\n",
              "      <td>Population-Estimations</td>\n",
              "      <td>2004</td>\n",
              "      <td>2004</td>\n",
              "      <td>1000 personnes</td>\n",
              "      <td>24726.684</td>\n",
              "      <td>X</td>\n",
              "      <td>Sources internationales sûres</td>\n",
              "      <td>NaN</td>\n",
              "    </tr>\n",
              "  </tbody>\n",
              "</table>\n",
              "</div>\n",
              "      <button class=\"colab-df-convert\" onclick=\"convertToInteractive('df-c18c29eb-ae80-45c1-a8d5-5fdc1e6dbe73')\"\n",
              "              title=\"Convert this dataframe to an interactive table.\"\n",
              "              style=\"display:none;\">\n",
              "        \n",
              "  <svg xmlns=\"http://www.w3.org/2000/svg\" height=\"24px\"viewBox=\"0 0 24 24\"\n",
              "       width=\"24px\">\n",
              "    <path d=\"M0 0h24v24H0V0z\" fill=\"none\"/>\n",
              "    <path d=\"M18.56 5.44l.94 2.06.94-2.06 2.06-.94-2.06-.94-.94-2.06-.94 2.06-2.06.94zm-11 1L8.5 8.5l.94-2.06 2.06-.94-2.06-.94L8.5 2.5l-.94 2.06-2.06.94zm10 10l.94 2.06.94-2.06 2.06-.94-2.06-.94-.94-2.06-.94 2.06-2.06.94z\"/><path d=\"M17.41 7.96l-1.37-1.37c-.4-.4-.92-.59-1.43-.59-.52 0-1.04.2-1.43.59L10.3 9.45l-7.72 7.72c-.78.78-.78 2.05 0 2.83L4 21.41c.39.39.9.59 1.41.59.51 0 1.02-.2 1.41-.59l7.78-7.78 2.81-2.81c.8-.78.8-2.07 0-2.86zM5.41 20L4 18.59l7.72-7.72 1.47 1.35L5.41 20z\"/>\n",
              "  </svg>\n",
              "      </button>\n",
              "      \n",
              "  <style>\n",
              "    .colab-df-container {\n",
              "      display:flex;\n",
              "      flex-wrap:wrap;\n",
              "      gap: 12px;\n",
              "    }\n",
              "\n",
              "    .colab-df-convert {\n",
              "      background-color: #E8F0FE;\n",
              "      border: none;\n",
              "      border-radius: 50%;\n",
              "      cursor: pointer;\n",
              "      display: none;\n",
              "      fill: #1967D2;\n",
              "      height: 32px;\n",
              "      padding: 0 0 0 0;\n",
              "      width: 32px;\n",
              "    }\n",
              "\n",
              "    .colab-df-convert:hover {\n",
              "      background-color: #E2EBFA;\n",
              "      box-shadow: 0px 1px 2px rgba(60, 64, 67, 0.3), 0px 1px 3px 1px rgba(60, 64, 67, 0.15);\n",
              "      fill: #174EA6;\n",
              "    }\n",
              "\n",
              "    [theme=dark] .colab-df-convert {\n",
              "      background-color: #3B4455;\n",
              "      fill: #D2E3FC;\n",
              "    }\n",
              "\n",
              "    [theme=dark] .colab-df-convert:hover {\n",
              "      background-color: #434B5C;\n",
              "      box-shadow: 0px 1px 3px 1px rgba(0, 0, 0, 0.15);\n",
              "      filter: drop-shadow(0px 1px 2px rgba(0, 0, 0, 0.3));\n",
              "      fill: #FFFFFF;\n",
              "    }\n",
              "  </style>\n",
              "\n",
              "      <script>\n",
              "        const buttonEl =\n",
              "          document.querySelector('#df-c18c29eb-ae80-45c1-a8d5-5fdc1e6dbe73 button.colab-df-convert');\n",
              "        buttonEl.style.display =\n",
              "          google.colab.kernel.accessAllowed ? 'block' : 'none';\n",
              "\n",
              "        async function convertToInteractive(key) {\n",
              "          const element = document.querySelector('#df-c18c29eb-ae80-45c1-a8d5-5fdc1e6dbe73');\n",
              "          const dataTable =\n",
              "            await google.colab.kernel.invokeFunction('convertToInteractive',\n",
              "                                                     [key], {});\n",
              "          if (!dataTable) return;\n",
              "\n",
              "          const docLinkHtml = 'Like what you see? Visit the ' +\n",
              "            '<a target=\"_blank\" href=https://colab.research.google.com/notebooks/data_table.ipynb>data table notebook</a>'\n",
              "            + ' to learn more about interactive tables.';\n",
              "          element.innerHTML = '';\n",
              "          dataTable['output_type'] = 'display_data';\n",
              "          await google.colab.output.renderOutput(dataTable, element);\n",
              "          const docLink = document.createElement('div');\n",
              "          docLink.innerHTML = docLinkHtml;\n",
              "          element.appendChild(docLink);\n",
              "        }\n",
              "      </script>\n",
              "    </div>\n",
              "  </div>\n",
              "  "
            ]
          },
          "metadata": {},
          "execution_count": 9
        }
      ]
    },
    {
      "cell_type": "markdown",
      "source": [
        "# **<font color='indianred'>Partie 2 : Analyse des jeux de données</font></a>**"
      ],
      "metadata": {
        "id": "Ug_TVJH2Ocu5"
      }
    },
    {
      "cell_type": "markdown",
      "source": [
        "# <a name=\"C3\"><font color='LightSeaGreen'>Affichage du nombre de lignes et colonnes des jeux de données</font></a>"
      ],
      "metadata": {
        "id": "H3JkWBWoM6Nz"
      }
    },
    {
      "cell_type": "code",
      "source": [
        "#nombre de lignes et colonnes\n",
        "print('Disponibilité alimentaire',df_dispo.shape)\n",
        "print('Population',df_pop.shape)"
      ],
      "metadata": {
        "execution": {
          "iopub.status.busy": "2022-06-24T06:34:05.649193Z",
          "iopub.execute_input": "2022-06-24T06:34:05.650444Z",
          "iopub.status.idle": "2022-06-24T06:34:05.660194Z",
          "shell.execute_reply.started": "2022-06-24T06:34:05.650395Z",
          "shell.execute_reply": "2022-06-24T06:34:05.658034Z"
        },
        "trusted": true,
        "colab": {
          "base_uri": "https://localhost:8080/"
        },
        "id": "6gGQR8q-e7pO",
        "outputId": "ebec7502-7378-4380-cf8f-72f6c8a140de"
      },
      "execution_count": 10,
      "outputs": [
        {
          "output_type": "stream",
          "name": "stdout",
          "text": [
            "Disponibilité alimentaire (176600, 14)\n",
            "Population (4411, 15)\n"
          ]
        }
      ]
    },
    {
      "cell_type": "markdown",
      "source": [
        "# <a name=\"C4\"><font color='LightSeaGreen'>Affichage des informations des jeux de données</font></a>"
      ],
      "metadata": {
        "id": "71OS9KIiNBIY"
      }
    },
    {
      "cell_type": "code",
      "source": [
        "print('Table Disponibilité Alimentaire')\n",
        "df_dispo.info()\n",
        "print('\\n')\n",
        "print('Table Population')\n",
        "df_pop.info()\n",
        "print('\\n')\n"
      ],
      "metadata": {
        "execution": {
          "iopub.status.busy": "2022-06-24T06:34:05.663665Z",
          "iopub.execute_input": "2022-06-24T06:34:05.664038Z",
          "iopub.status.idle": "2022-06-24T06:34:05.889942Z",
          "shell.execute_reply.started": "2022-06-24T06:34:05.664007Z",
          "shell.execute_reply": "2022-06-24T06:34:05.888691Z"
        },
        "trusted": true,
        "colab": {
          "base_uri": "https://localhost:8080/"
        },
        "id": "br3cX7QAe7pP",
        "outputId": "7b108549-bc46-4cdc-852c-6c57cc953c93"
      },
      "execution_count": 11,
      "outputs": [
        {
          "output_type": "stream",
          "name": "stdout",
          "text": [
            "Table Disponibilité Alimentaire\n",
            "<class 'pandas.core.frame.DataFrame'>\n",
            "RangeIndex: 176600 entries, 0 to 176599\n",
            "Data columns (total 14 columns):\n",
            " #   Column                  Non-Null Count   Dtype  \n",
            "---  ------                  --------------   -----  \n",
            " 0   Code Domaine            176600 non-null  object \n",
            " 1   Domaine                 176600 non-null  object \n",
            " 2   Code zone               176600 non-null  int64  \n",
            " 3   Zone                    176600 non-null  object \n",
            " 4   Code Élément            176600 non-null  int64  \n",
            " 5   Élément                 176600 non-null  object \n",
            " 6   Code Produit            176600 non-null  int64  \n",
            " 7   Produit                 176600 non-null  object \n",
            " 8   Code année              176600 non-null  int64  \n",
            " 9   Année                   176600 non-null  int64  \n",
            " 10  Unité                   176600 non-null  object \n",
            " 11  Valeur                  176600 non-null  float64\n",
            " 12  Symbole                 176600 non-null  object \n",
            " 13  Description du Symbole  176600 non-null  object \n",
            "dtypes: float64(1), int64(5), object(8)\n",
            "memory usage: 18.9+ MB\n",
            "\n",
            "\n",
            "Table Population\n",
            "<class 'pandas.core.frame.DataFrame'>\n",
            "RangeIndex: 4411 entries, 0 to 4410\n",
            "Data columns (total 15 columns):\n",
            " #   Column                  Non-Null Count  Dtype  \n",
            "---  ------                  --------------  -----  \n",
            " 0   Code Domaine            4411 non-null   object \n",
            " 1   Domaine                 4411 non-null   object \n",
            " 2   Code zone               4411 non-null   int64  \n",
            " 3   Zone                    4411 non-null   object \n",
            " 4   Code Élément            4411 non-null   int64  \n",
            " 5   Élément                 4411 non-null   object \n",
            " 6   Code Produit            4411 non-null   int64  \n",
            " 7   Produit                 4411 non-null   object \n",
            " 8   Code année              4411 non-null   int64  \n",
            " 9   Année                   4411 non-null   int64  \n",
            " 10  Unité                   4411 non-null   object \n",
            " 11  Valeur                  4411 non-null   float64\n",
            " 12  Symbole                 4411 non-null   object \n",
            " 13  Description du Symbole  4411 non-null   object \n",
            " 14  Note                    258 non-null    object \n",
            "dtypes: float64(1), int64(5), object(9)\n",
            "memory usage: 517.0+ KB\n",
            "\n",
            "\n"
          ]
        }
      ]
    },
    {
      "cell_type": "markdown",
      "source": [
        "# <a name=\"C5\"><font color='LightSeaGreen'>Analyse des valeurs manquantes</font></a>"
      ],
      "metadata": {
        "id": "H4IkXSXgNsUf"
      }
    },
    {
      "cell_type": "code",
      "source": [
        "#Création d'une fonction calculant le pourcentage de valeurs manquantes \n",
        "#et affichant une heatmap pour visualiser les valeurs manquantes \n",
        "def val_manq(df):\n",
        "    ligne,colonne=df.shape\n",
        "    nb_cell=ligne*colonne\n",
        "    nb_null=df.isnull().sum().sum()\n",
        "    prct=nb_null *100/nb_cell\n",
        "    print('Nombre de valeurs manquantes =',nb_null)\n",
        "    print('Nombre de cellulles totales =',nb_cell)\n",
        "    print('Pourcentage de valeurs manquantes = ',round(prct,2),'%') \n",
        "    print('\\n')\n",
        "    print('Pourcentage de valeurs manquantes avec le nombre de colonnes =\\n',round((df.isna().sum()*100/df.shape[0]),2).value_counts(ascending=True))\n",
        "    #Calcul des pourcentages de valeurs manquantes par variable(colonne)\n",
        "    print('\\n')\n",
        "    print('Pourcentage de valeurs manquantes par variable/colonne =\\n', \n",
        "          round((df.isna().sum()*100/df.shape[0]),2).sort_values(ascending=True))\n",
        "    print('\\n')\n",
        "    plt.figure(figsize=(6,4))\n",
        "    sns.heatmap(df.isna(), cbar=False)"
      ],
      "metadata": {
        "execution": {
          "iopub.status.busy": "2022-06-24T06:34:05.910915Z",
          "iopub.execute_input": "2022-06-24T06:34:05.912395Z",
          "iopub.status.idle": "2022-06-24T06:34:05.933508Z",
          "shell.execute_reply.started": "2022-06-24T06:34:05.912347Z",
          "shell.execute_reply": "2022-06-24T06:34:05.932109Z"
        },
        "trusted": true,
        "id": "8ofbYHdee7pP"
      },
      "execution_count": 12,
      "outputs": []
    },
    {
      "cell_type": "code",
      "source": [
        "#Appel de la fonction val_manq \n",
        "#Affichage des pourcentages de valeurs manquantes des 2 jeux de données \n",
        "print('1-Table disponibilité alimentaire :')\n",
        "val_manq(df_dispo)\n",
        "plt.title(\"Heatmap des valeurs manquantes dispo\")\n",
        "print('---------------------------------------')\n",
        "print('2-Table population :')\n",
        "val_manq(df_pop)\n",
        "plt.title(\"Heatmap des valeurs manquantes population\")\n",
        "print('---------------------------------------')"
      ],
      "metadata": {
        "execution": {
          "iopub.status.busy": "2022-06-24T06:34:05.939848Z",
          "iopub.execute_input": "2022-06-24T06:34:05.941015Z",
          "iopub.status.idle": "2022-06-24T06:34:10.363728Z",
          "shell.execute_reply.started": "2022-06-24T06:34:05.94095Z",
          "shell.execute_reply": "2022-06-24T06:34:10.362593Z"
        },
        "trusted": true,
        "colab": {
          "base_uri": "https://localhost:8080/",
          "height": 1000
        },
        "id": "JilVuIz2e7pQ",
        "outputId": "94f4a880-883e-4ec5-a55e-a322fc92fd6e"
      },
      "execution_count": 13,
      "outputs": [
        {
          "output_type": "stream",
          "name": "stdout",
          "text": [
            "1-Table disponibilité alimentaire :\n",
            "Nombre de valeurs manquantes = 0\n",
            "Nombre de cellulles totales = 2472400\n",
            "Pourcentage de valeurs manquantes =  0.0 %\n",
            "\n",
            "\n",
            "Pourcentage de valeurs manquantes avec le nombre de colonnes =\n",
            " 0.0    14\n",
            "dtype: int64\n",
            "\n",
            "\n",
            "Pourcentage de valeurs manquantes par variable/colonne =\n",
            " Code Domaine              0.0\n",
            "Domaine                   0.0\n",
            "Code zone                 0.0\n",
            "Zone                      0.0\n",
            "Code Élément              0.0\n",
            "Élément                   0.0\n",
            "Code Produit              0.0\n",
            "Produit                   0.0\n",
            "Code année                0.0\n",
            "Année                     0.0\n",
            "Unité                     0.0\n",
            "Valeur                    0.0\n",
            "Symbole                   0.0\n",
            "Description du Symbole    0.0\n",
            "dtype: float64\n",
            "\n",
            "\n",
            "---------------------------------------\n",
            "2-Table population :\n",
            "Nombre de valeurs manquantes = 4153\n",
            "Nombre de cellulles totales = 66165\n",
            "Pourcentage de valeurs manquantes =  6.28 %\n",
            "\n",
            "\n",
            "Pourcentage de valeurs manquantes avec le nombre de colonnes =\n",
            " 94.15     1\n",
            "0.00     14\n",
            "dtype: int64\n",
            "\n",
            "\n",
            "Pourcentage de valeurs manquantes par variable/colonne =\n",
            " Code Domaine               0.00\n",
            "Domaine                    0.00\n",
            "Code zone                  0.00\n",
            "Zone                       0.00\n",
            "Code Élément               0.00\n",
            "Élément                    0.00\n",
            "Code Produit               0.00\n",
            "Produit                    0.00\n",
            "Code année                 0.00\n",
            "Année                      0.00\n",
            "Unité                      0.00\n",
            "Valeur                     0.00\n",
            "Symbole                    0.00\n",
            "Description du Symbole     0.00\n",
            "Note                      94.15\n",
            "dtype: float64\n",
            "\n",
            "\n",
            "---------------------------------------\n"
          ]
        },
        {
          "output_type": "display_data",
          "data": {
            "text/plain": [
              "<Figure size 432x288 with 1 Axes>"
            ],
            "image/png": "[encoded data removed]"
          },
          "metadata": {
            "needs_background": "light"
          }
        },
        {
          "output_type": "display_data",
          "data": {
            "text/plain": [
              "<Figure size 432x288 with 1 Axes>"
            ],
            "image/png": "[encoded data removed]"
          },
          "metadata": {
            "needs_background": "light"
          }
        }
      ]
    },
    {
      "cell_type": "markdown",
      "source": [
        "# <a name=\"C6\"><font color='LightSeaGreen'>Unicité de la clé primaire</font></a>"
      ],
      "metadata": {
        "id": "AAoeTL7GN5Zg"
      }
    },
    {
      "cell_type": "code",
      "source": [
        "#Creation d'une fonction qui teste l'unicité d'une colonne\n",
        "def cle_primaire(df,col):\n",
        "    if len(df)==len(df[col].unique()):\n",
        "        print('La variable', col, 'est une clé primaire')\n",
        "    else: \n",
        "        print('La variable', col, 'n\\'est pas une clé primaire')"
      ],
      "metadata": {
        "execution": {
          "iopub.status.busy": "2022-06-24T06:34:10.367395Z",
          "iopub.execute_input": "2022-06-24T06:34:10.368014Z",
          "iopub.status.idle": "2022-06-24T06:34:10.374191Z",
          "shell.execute_reply.started": "2022-06-24T06:34:10.367973Z",
          "shell.execute_reply": "2022-06-24T06:34:10.373228Z"
        },
        "trusted": true,
        "id": "O1iVqlMMe7pR"
      },
      "execution_count": 14,
      "outputs": []
    },
    {
      "cell_type": "code",
      "source": [
        "cle_primaire(df_dispo,'Code Domaine')\n",
        "cle_primaire(df_pop,'Code Domaine')"
      ],
      "metadata": {
        "execution": {
          "iopub.status.busy": "2022-06-24T06:34:10.375824Z",
          "iopub.execute_input": "2022-06-24T06:34:10.376506Z",
          "iopub.status.idle": "2022-06-24T06:34:10.40132Z",
          "shell.execute_reply.started": "2022-06-24T06:34:10.376468Z",
          "shell.execute_reply": "2022-06-24T06:34:10.400021Z"
        },
        "trusted": true,
        "colab": {
          "base_uri": "https://localhost:8080/"
        },
        "id": "QohMQd-Ze7pR",
        "outputId": "90b34aa4-2fca-43b9-e491-9a14dab2486a"
      },
      "execution_count": 15,
      "outputs": [
        {
          "output_type": "stream",
          "name": "stdout",
          "text": [
            "La variable Code Domaine n'est pas une clé primaire\n",
            "La variable Code Domaine n'est pas une clé primaire\n"
          ]
        }
      ]
    },
    {
      "cell_type": "markdown",
      "source": [
        "# <a name=\"C7\"><font color='LightSeaGreen'>Analyse des doublons</font></a>"
      ],
      "metadata": {
        "id": "cnnU3v1fOEE-"
      }
    },
    {
      "cell_type": "code",
      "source": [
        "#Fonction qui detecte les doublons\n",
        "def detect_doublons(df):\n",
        "    doub=df[df[df.columns].duplicated(subset=None, keep='first')]\n",
        "    print('------------------') \n",
        "    print('La table contient', len(doub), 'doublons.')\n",
        "    print(doub.shape)\n",
        "    print('\\n') \n",
        "    print(doub)\n",
        "    print('\\n')"
      ],
      "metadata": {
        "execution": {
          "iopub.status.busy": "2022-06-24T06:34:10.403467Z",
          "iopub.execute_input": "2022-06-24T06:34:10.404171Z",
          "iopub.status.idle": "2022-06-24T06:34:10.413025Z",
          "shell.execute_reply.started": "2022-06-24T06:34:10.40413Z",
          "shell.execute_reply": "2022-06-24T06:34:10.411889Z"
        },
        "trusted": true,
        "id": "5Fm4c8fre7pS"
      },
      "execution_count": 16,
      "outputs": []
    },
    {
      "cell_type": "code",
      "source": [
        "print('------------------') \n",
        "print('Table disponibilité alimentaire')\n",
        "detect_doublons(df_dispo)\n",
        "print('------------------') \n",
        "print('Table population')\n",
        "detect_doublons(df_pop)"
      ],
      "metadata": {
        "execution": {
          "iopub.status.busy": "2022-06-24T06:34:10.414838Z",
          "iopub.execute_input": "2022-06-24T06:34:10.415472Z",
          "iopub.status.idle": "2022-06-24T06:34:10.597175Z",
          "shell.execute_reply.started": "2022-06-24T06:34:10.415417Z",
          "shell.execute_reply": "2022-06-24T06:34:10.595926Z"
        },
        "trusted": true,
        "colab": {
          "base_uri": "https://localhost:8080/"
        },
        "id": "0ddUyd1De7pS",
        "outputId": "9de78b3d-6dec-44b5-a541-779f71f062d9"
      },
      "execution_count": 17,
      "outputs": [
        {
          "output_type": "stream",
          "name": "stdout",
          "text": [
            "------------------\n",
            "Table disponibilité alimentaire\n",
            "------------------\n",
            "La table contient 0 doublons.\n",
            "(0, 14)\n",
            "\n",
            "\n",
            "Empty DataFrame\n",
            "Columns: [Code Domaine, Domaine, Code zone, Zone, Code Élément, Élément, Code Produit, Produit, Code année, Année, Unité, Valeur, Symbole, Description du Symbole]\n",
            "Index: []\n",
            "\n",
            "\n",
            "------------------\n",
            "Table population\n",
            "------------------\n",
            "La table contient 0 doublons.\n",
            "(0, 15)\n",
            "\n",
            "\n",
            "Empty DataFrame\n",
            "Columns: [Code Domaine, Domaine, Code zone, Zone, Code Élément, Élément, Code Produit, Produit, Code année, Année, Unité, Valeur, Symbole, Description du Symbole, Note]\n",
            "Index: []\n",
            "\n",
            "\n"
          ]
        }
      ]
    },
    {
      "cell_type": "code",
      "source": [
        ""
      ],
      "metadata": {
        "id": "cDWVB0gTe7pS"
      },
      "execution_count": 17,
      "outputs": []
    }
  ]
}